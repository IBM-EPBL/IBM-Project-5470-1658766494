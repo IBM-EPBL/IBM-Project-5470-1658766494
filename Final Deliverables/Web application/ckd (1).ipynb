{
  "cells": [
    {
      "cell_type": "markdown",
      "id": "6255905c",
      "metadata": {
        "id": "6255905c"
      },
      "source": [
        "## Importing Libaries "
      ]
    },
    {
      "cell_type": "code",
      "execution_count": null,
      "id": "5fafb69d",
      "metadata": {
        "id": "5fafb69d"
      },
      "outputs": [],
      "source": [
        "import pandas as pd\n",
        "import numpy as np \n",
        "from collections import Counter as c \n",
        "import matplotlib.pyplot as plt\n",
        "import seaborn as sns \n",
        "import missingno as msno \n",
        "from sklearn.metrics import accuracy_score, confusion_matrix\n",
        "from sklearn.model_selection import train_test_split \n",
        "from sklearn.preprocessing import LabelEncoder \n",
        "from sklearn.linear_model import LogisticRegression\n",
        "import pickle "
      ]
    },
    {
      "cell_type": "markdown",
      "id": "18206965",
      "metadata": {
        "id": "18206965"
      },
      "source": [
        "## Reading the dataset"
      ]
    },
    {
      "cell_type": "code",
      "execution_count": null,
      "id": "424db03a",
      "metadata": {
        "id": "424db03a"
      },
      "outputs": [],
      "source": [
        "data=pd.read_csv(r\"/content/sample_data/chronickidneydisease.csv\")   ## Loading the dataset"
      ]
    },
    {
      "cell_type": "code",
      "execution_count": null,
      "id": "ad228f82",
      "metadata": {
        "colab": {
          "base_uri": "https://localhost:8080/",
          "height": 235
        },
        "id": "ad228f82",
        "outputId": "ee2e6b02-6102-482a-b21c-97260387de8a"
      },
      "outputs": [
        {
          "data": {
            "text/html": [
              "\n",
              "  <div id=\"df-69febfab-17c3-484e-8fb3-596a582fc48e\">\n",
              "    <div class=\"colab-df-container\">\n",
              "      <div>\n",
              "<style scoped>\n",
              "    .dataframe tbody tr th:only-of-type {\n",
              "        vertical-align: middle;\n",
              "    }\n",
              "\n",
              "    .dataframe tbody tr th {\n",
              "        vertical-align: top;\n",
              "    }\n",
              "\n",
              "    .dataframe thead th {\n",
              "        text-align: right;\n",
              "    }\n",
              "</style>\n",
              "<table border=\"1\" class=\"dataframe\">\n",
              "  <thead>\n",
              "    <tr style=\"text-align: right;\">\n",
              "      <th></th>\n",
              "      <th>id</th>\n",
              "      <th>age</th>\n",
              "      <th>bp</th>\n",
              "      <th>sg</th>\n",
              "      <th>al</th>\n",
              "      <th>su</th>\n",
              "      <th>rbc</th>\n",
              "      <th>pc</th>\n",
              "      <th>pcc</th>\n",
              "      <th>ba</th>\n",
              "      <th>...</th>\n",
              "      <th>pcv</th>\n",
              "      <th>wc</th>\n",
              "      <th>rc</th>\n",
              "      <th>htn</th>\n",
              "      <th>dm</th>\n",
              "      <th>cad</th>\n",
              "      <th>appet</th>\n",
              "      <th>pe</th>\n",
              "      <th>ane</th>\n",
              "      <th>classification</th>\n",
              "    </tr>\n",
              "  </thead>\n",
              "  <tbody>\n",
              "    <tr>\n",
              "      <th>0</th>\n",
              "      <td>0</td>\n",
              "      <td>48.0</td>\n",
              "      <td>80.0</td>\n",
              "      <td>1.020</td>\n",
              "      <td>1.0</td>\n",
              "      <td>0.0</td>\n",
              "      <td>NaN</td>\n",
              "      <td>normal</td>\n",
              "      <td>notpresent</td>\n",
              "      <td>notpresent</td>\n",
              "      <td>...</td>\n",
              "      <td>44</td>\n",
              "      <td>7800</td>\n",
              "      <td>5.2</td>\n",
              "      <td>yes</td>\n",
              "      <td>yes</td>\n",
              "      <td>no</td>\n",
              "      <td>good</td>\n",
              "      <td>no</td>\n",
              "      <td>no</td>\n",
              "      <td>ckd</td>\n",
              "    </tr>\n",
              "    <tr>\n",
              "      <th>1</th>\n",
              "      <td>1</td>\n",
              "      <td>7.0</td>\n",
              "      <td>50.0</td>\n",
              "      <td>1.020</td>\n",
              "      <td>4.0</td>\n",
              "      <td>0.0</td>\n",
              "      <td>NaN</td>\n",
              "      <td>normal</td>\n",
              "      <td>notpresent</td>\n",
              "      <td>notpresent</td>\n",
              "      <td>...</td>\n",
              "      <td>38</td>\n",
              "      <td>6000</td>\n",
              "      <td>NaN</td>\n",
              "      <td>no</td>\n",
              "      <td>no</td>\n",
              "      <td>no</td>\n",
              "      <td>good</td>\n",
              "      <td>no</td>\n",
              "      <td>no</td>\n",
              "      <td>ckd</td>\n",
              "    </tr>\n",
              "    <tr>\n",
              "      <th>2</th>\n",
              "      <td>2</td>\n",
              "      <td>62.0</td>\n",
              "      <td>80.0</td>\n",
              "      <td>1.010</td>\n",
              "      <td>2.0</td>\n",
              "      <td>3.0</td>\n",
              "      <td>normal</td>\n",
              "      <td>normal</td>\n",
              "      <td>notpresent</td>\n",
              "      <td>notpresent</td>\n",
              "      <td>...</td>\n",
              "      <td>31</td>\n",
              "      <td>7500</td>\n",
              "      <td>NaN</td>\n",
              "      <td>no</td>\n",
              "      <td>yes</td>\n",
              "      <td>no</td>\n",
              "      <td>poor</td>\n",
              "      <td>no</td>\n",
              "      <td>yes</td>\n",
              "      <td>ckd</td>\n",
              "    </tr>\n",
              "    <tr>\n",
              "      <th>3</th>\n",
              "      <td>3</td>\n",
              "      <td>48.0</td>\n",
              "      <td>70.0</td>\n",
              "      <td>1.005</td>\n",
              "      <td>4.0</td>\n",
              "      <td>0.0</td>\n",
              "      <td>normal</td>\n",
              "      <td>abnormal</td>\n",
              "      <td>present</td>\n",
              "      <td>notpresent</td>\n",
              "      <td>...</td>\n",
              "      <td>32</td>\n",
              "      <td>6700</td>\n",
              "      <td>3.9</td>\n",
              "      <td>yes</td>\n",
              "      <td>no</td>\n",
              "      <td>no</td>\n",
              "      <td>poor</td>\n",
              "      <td>yes</td>\n",
              "      <td>yes</td>\n",
              "      <td>ckd</td>\n",
              "    </tr>\n",
              "    <tr>\n",
              "      <th>4</th>\n",
              "      <td>4</td>\n",
              "      <td>51.0</td>\n",
              "      <td>80.0</td>\n",
              "      <td>1.010</td>\n",
              "      <td>2.0</td>\n",
              "      <td>0.0</td>\n",
              "      <td>normal</td>\n",
              "      <td>normal</td>\n",
              "      <td>notpresent</td>\n",
              "      <td>notpresent</td>\n",
              "      <td>...</td>\n",
              "      <td>35</td>\n",
              "      <td>7300</td>\n",
              "      <td>4.6</td>\n",
              "      <td>no</td>\n",
              "      <td>no</td>\n",
              "      <td>no</td>\n",
              "      <td>good</td>\n",
              "      <td>no</td>\n",
              "      <td>no</td>\n",
              "      <td>ckd</td>\n",
              "    </tr>\n",
              "  </tbody>\n",
              "</table>\n",
              "<p>5 rows × 26 columns</p>\n",
              "</div>\n",
              "      <button class=\"colab-df-convert\" onclick=\"convertToInteractive('df-69febfab-17c3-484e-8fb3-596a582fc48e')\"\n",
              "              title=\"Convert this dataframe to an interactive table.\"\n",
              "              style=\"display:none;\">\n",
              "        \n",
              "  <svg xmlns=\"http://www.w3.org/2000/svg\" height=\"24px\"viewBox=\"0 0 24 24\"\n",
              "       width=\"24px\">\n",
              "    <path d=\"M0 0h24v24H0V0z\" fill=\"none\"/>\n",
              "    <path d=\"M18.56 5.44l.94 2.06.94-2.06 2.06-.94-2.06-.94-.94-2.06-.94 2.06-2.06.94zm-11 1L8.5 8.5l.94-2.06 2.06-.94-2.06-.94L8.5 2.5l-.94 2.06-2.06.94zm10 10l.94 2.06.94-2.06 2.06-.94-2.06-.94-.94-2.06-.94 2.06-2.06.94z\"/><path d=\"M17.41 7.96l-1.37-1.37c-.4-.4-.92-.59-1.43-.59-.52 0-1.04.2-1.43.59L10.3 9.45l-7.72 7.72c-.78.78-.78 2.05 0 2.83L4 21.41c.39.39.9.59 1.41.59.51 0 1.02-.2 1.41-.59l7.78-7.78 2.81-2.81c.8-.78.8-2.07 0-2.86zM5.41 20L4 18.59l7.72-7.72 1.47 1.35L5.41 20z\"/>\n",
              "  </svg>\n",
              "      </button>\n",
              "      \n",
              "  <style>\n",
              "    .colab-df-container {\n",
              "      display:flex;\n",
              "      flex-wrap:wrap;\n",
              "      gap: 12px;\n",
              "    }\n",
              "\n",
              "    .colab-df-convert {\n",
              "      background-color: #E8F0FE;\n",
              "      border: none;\n",
              "      border-radius: 50%;\n",
              "      cursor: pointer;\n",
              "      display: none;\n",
              "      fill: #1967D2;\n",
              "      height: 32px;\n",
              "      padding: 0 0 0 0;\n",
              "      width: 32px;\n",
              "    }\n",
              "\n",
              "    .colab-df-convert:hover {\n",
              "      background-color: #E2EBFA;\n",
              "      box-shadow: 0px 1px 2px rgba(60, 64, 67, 0.3), 0px 1px 3px 1px rgba(60, 64, 67, 0.15);\n",
              "      fill: #174EA6;\n",
              "    }\n",
              "\n",
              "    [theme=dark] .colab-df-convert {\n",
              "      background-color: #3B4455;\n",
              "      fill: #D2E3FC;\n",
              "    }\n",
              "\n",
              "    [theme=dark] .colab-df-convert:hover {\n",
              "      background-color: #434B5C;\n",
              "      box-shadow: 0px 1px 3px 1px rgba(0, 0, 0, 0.15);\n",
              "      filter: drop-shadow(0px 1px 2px rgba(0, 0, 0, 0.3));\n",
              "      fill: #FFFFFF;\n",
              "    }\n",
              "  </style>\n",
              "\n",
              "      <script>\n",
              "        const buttonEl =\n",
              "          document.querySelector('#df-69febfab-17c3-484e-8fb3-596a582fc48e button.colab-df-convert');\n",
              "        buttonEl.style.display =\n",
              "          google.colab.kernel.accessAllowed ? 'block' : 'none';\n",
              "\n",
              "        async function convertToInteractive(key) {\n",
              "          const element = document.querySelector('#df-69febfab-17c3-484e-8fb3-596a582fc48e');\n",
              "          const dataTable =\n",
              "            await google.colab.kernel.invokeFunction('convertToInteractive',\n",
              "                                                     [key], {});\n",
              "          if (!dataTable) return;\n",
              "\n",
              "          const docLinkHtml = 'Like what you see? Visit the ' +\n",
              "            '<a target=\"_blank\" href=https://colab.research.google.com/notebooks/data_table.ipynb>data table notebook</a>'\n",
              "            + ' to learn more about interactive tables.';\n",
              "          element.innerHTML = '';\n",
              "          dataTable['output_type'] = 'display_data';\n",
              "          await google.colab.output.renderOutput(dataTable, element);\n",
              "          const docLink = document.createElement('div');\n",
              "          docLink.innerHTML = docLinkHtml;\n",
              "          element.appendChild(docLink);\n",
              "        }\n",
              "      </script>\n",
              "    </div>\n",
              "  </div>\n",
              "  "
            ],
            "text/plain": [
              "   id   age    bp     sg   al   su     rbc        pc         pcc          ba  \\\n",
              "0   0  48.0  80.0  1.020  1.0  0.0     NaN    normal  notpresent  notpresent   \n",
              "1   1   7.0  50.0  1.020  4.0  0.0     NaN    normal  notpresent  notpresent   \n",
              "2   2  62.0  80.0  1.010  2.0  3.0  normal    normal  notpresent  notpresent   \n",
              "3   3  48.0  70.0  1.005  4.0  0.0  normal  abnormal     present  notpresent   \n",
              "4   4  51.0  80.0  1.010  2.0  0.0  normal    normal  notpresent  notpresent   \n",
              "\n",
              "   ...  pcv    wc   rc  htn   dm  cad appet   pe  ane classification  \n",
              "0  ...   44  7800  5.2  yes  yes   no  good   no   no            ckd  \n",
              "1  ...   38  6000  NaN   no   no   no  good   no   no            ckd  \n",
              "2  ...   31  7500  NaN   no  yes   no  poor   no  yes            ckd  \n",
              "3  ...   32  6700  3.9  yes   no   no  poor  yes  yes            ckd  \n",
              "4  ...   35  7300  4.6   no   no   no  good   no   no            ckd  \n",
              "\n",
              "[5 rows x 26 columns]"
            ]
          },
          "execution_count": 3,
          "metadata": {},
          "output_type": "execute_result"
        }
      ],
      "source": [
        "data.head()"
      ]
    },
    {
      "cell_type": "code",
      "execution_count": null,
      "id": "27de4347",
      "metadata": {
        "colab": {
          "base_uri": "https://localhost:8080/",
          "height": 235
        },
        "id": "27de4347",
        "outputId": "9ddda308-11ed-4be3-c357-14029c0bac92"
      },
      "outputs": [
        {
          "data": {
            "text/html": [
              "\n",
              "  <div id=\"df-61f5825c-1d10-4402-9b5e-040c68b6d400\">\n",
              "    <div class=\"colab-df-container\">\n",
              "      <div>\n",
              "<style scoped>\n",
              "    .dataframe tbody tr th:only-of-type {\n",
              "        vertical-align: middle;\n",
              "    }\n",
              "\n",
              "    .dataframe tbody tr th {\n",
              "        vertical-align: top;\n",
              "    }\n",
              "\n",
              "    .dataframe thead th {\n",
              "        text-align: right;\n",
              "    }\n",
              "</style>\n",
              "<table border=\"1\" class=\"dataframe\">\n",
              "  <thead>\n",
              "    <tr style=\"text-align: right;\">\n",
              "      <th></th>\n",
              "      <th>id</th>\n",
              "      <th>age</th>\n",
              "      <th>bp</th>\n",
              "      <th>sg</th>\n",
              "      <th>al</th>\n",
              "      <th>su</th>\n",
              "      <th>rbc</th>\n",
              "      <th>pc</th>\n",
              "      <th>pcc</th>\n",
              "      <th>ba</th>\n",
              "      <th>...</th>\n",
              "      <th>pcv</th>\n",
              "      <th>wc</th>\n",
              "      <th>rc</th>\n",
              "      <th>htn</th>\n",
              "      <th>dm</th>\n",
              "      <th>cad</th>\n",
              "      <th>appet</th>\n",
              "      <th>pe</th>\n",
              "      <th>ane</th>\n",
              "      <th>classification</th>\n",
              "    </tr>\n",
              "  </thead>\n",
              "  <tbody>\n",
              "    <tr>\n",
              "      <th>395</th>\n",
              "      <td>395</td>\n",
              "      <td>55.0</td>\n",
              "      <td>80.0</td>\n",
              "      <td>1.020</td>\n",
              "      <td>0.0</td>\n",
              "      <td>0.0</td>\n",
              "      <td>normal</td>\n",
              "      <td>normal</td>\n",
              "      <td>notpresent</td>\n",
              "      <td>notpresent</td>\n",
              "      <td>...</td>\n",
              "      <td>47</td>\n",
              "      <td>6700</td>\n",
              "      <td>4.9</td>\n",
              "      <td>no</td>\n",
              "      <td>no</td>\n",
              "      <td>no</td>\n",
              "      <td>good</td>\n",
              "      <td>no</td>\n",
              "      <td>no</td>\n",
              "      <td>notckd</td>\n",
              "    </tr>\n",
              "    <tr>\n",
              "      <th>396</th>\n",
              "      <td>396</td>\n",
              "      <td>42.0</td>\n",
              "      <td>70.0</td>\n",
              "      <td>1.025</td>\n",
              "      <td>0.0</td>\n",
              "      <td>0.0</td>\n",
              "      <td>normal</td>\n",
              "      <td>normal</td>\n",
              "      <td>notpresent</td>\n",
              "      <td>notpresent</td>\n",
              "      <td>...</td>\n",
              "      <td>54</td>\n",
              "      <td>7800</td>\n",
              "      <td>6.2</td>\n",
              "      <td>no</td>\n",
              "      <td>no</td>\n",
              "      <td>no</td>\n",
              "      <td>good</td>\n",
              "      <td>no</td>\n",
              "      <td>no</td>\n",
              "      <td>notckd</td>\n",
              "    </tr>\n",
              "    <tr>\n",
              "      <th>397</th>\n",
              "      <td>397</td>\n",
              "      <td>12.0</td>\n",
              "      <td>80.0</td>\n",
              "      <td>1.020</td>\n",
              "      <td>0.0</td>\n",
              "      <td>0.0</td>\n",
              "      <td>normal</td>\n",
              "      <td>normal</td>\n",
              "      <td>notpresent</td>\n",
              "      <td>notpresent</td>\n",
              "      <td>...</td>\n",
              "      <td>49</td>\n",
              "      <td>6600</td>\n",
              "      <td>5.4</td>\n",
              "      <td>no</td>\n",
              "      <td>no</td>\n",
              "      <td>no</td>\n",
              "      <td>good</td>\n",
              "      <td>no</td>\n",
              "      <td>no</td>\n",
              "      <td>notckd</td>\n",
              "    </tr>\n",
              "    <tr>\n",
              "      <th>398</th>\n",
              "      <td>398</td>\n",
              "      <td>17.0</td>\n",
              "      <td>60.0</td>\n",
              "      <td>1.025</td>\n",
              "      <td>0.0</td>\n",
              "      <td>0.0</td>\n",
              "      <td>normal</td>\n",
              "      <td>normal</td>\n",
              "      <td>notpresent</td>\n",
              "      <td>notpresent</td>\n",
              "      <td>...</td>\n",
              "      <td>51</td>\n",
              "      <td>7200</td>\n",
              "      <td>5.9</td>\n",
              "      <td>no</td>\n",
              "      <td>no</td>\n",
              "      <td>no</td>\n",
              "      <td>good</td>\n",
              "      <td>no</td>\n",
              "      <td>no</td>\n",
              "      <td>notckd</td>\n",
              "    </tr>\n",
              "    <tr>\n",
              "      <th>399</th>\n",
              "      <td>399</td>\n",
              "      <td>58.0</td>\n",
              "      <td>80.0</td>\n",
              "      <td>1.025</td>\n",
              "      <td>0.0</td>\n",
              "      <td>0.0</td>\n",
              "      <td>normal</td>\n",
              "      <td>normal</td>\n",
              "      <td>notpresent</td>\n",
              "      <td>notpresent</td>\n",
              "      <td>...</td>\n",
              "      <td>53</td>\n",
              "      <td>6800</td>\n",
              "      <td>6.1</td>\n",
              "      <td>no</td>\n",
              "      <td>no</td>\n",
              "      <td>no</td>\n",
              "      <td>good</td>\n",
              "      <td>no</td>\n",
              "      <td>no</td>\n",
              "      <td>notckd</td>\n",
              "    </tr>\n",
              "  </tbody>\n",
              "</table>\n",
              "<p>5 rows × 26 columns</p>\n",
              "</div>\n",
              "      <button class=\"colab-df-convert\" onclick=\"convertToInteractive('df-61f5825c-1d10-4402-9b5e-040c68b6d400')\"\n",
              "              title=\"Convert this dataframe to an interactive table.\"\n",
              "              style=\"display:none;\">\n",
              "        \n",
              "  <svg xmlns=\"http://www.w3.org/2000/svg\" height=\"24px\"viewBox=\"0 0 24 24\"\n",
              "       width=\"24px\">\n",
              "    <path d=\"M0 0h24v24H0V0z\" fill=\"none\"/>\n",
              "    <path d=\"M18.56 5.44l.94 2.06.94-2.06 2.06-.94-2.06-.94-.94-2.06-.94 2.06-2.06.94zm-11 1L8.5 8.5l.94-2.06 2.06-.94-2.06-.94L8.5 2.5l-.94 2.06-2.06.94zm10 10l.94 2.06.94-2.06 2.06-.94-2.06-.94-.94-2.06-.94 2.06-2.06.94z\"/><path d=\"M17.41 7.96l-1.37-1.37c-.4-.4-.92-.59-1.43-.59-.52 0-1.04.2-1.43.59L10.3 9.45l-7.72 7.72c-.78.78-.78 2.05 0 2.83L4 21.41c.39.39.9.59 1.41.59.51 0 1.02-.2 1.41-.59l7.78-7.78 2.81-2.81c.8-.78.8-2.07 0-2.86zM5.41 20L4 18.59l7.72-7.72 1.47 1.35L5.41 20z\"/>\n",
              "  </svg>\n",
              "      </button>\n",
              "      \n",
              "  <style>\n",
              "    .colab-df-container {\n",
              "      display:flex;\n",
              "      flex-wrap:wrap;\n",
              "      gap: 12px;\n",
              "    }\n",
              "\n",
              "    .colab-df-convert {\n",
              "      background-color: #E8F0FE;\n",
              "      border: none;\n",
              "      border-radius: 50%;\n",
              "      cursor: pointer;\n",
              "      display: none;\n",
              "      fill: #1967D2;\n",
              "      height: 32px;\n",
              "      padding: 0 0 0 0;\n",
              "      width: 32px;\n",
              "    }\n",
              "\n",
              "    .colab-df-convert:hover {\n",
              "      background-color: #E2EBFA;\n",
              "      box-shadow: 0px 1px 2px rgba(60, 64, 67, 0.3), 0px 1px 3px 1px rgba(60, 64, 67, 0.15);\n",
              "      fill: #174EA6;\n",
              "    }\n",
              "\n",
              "    [theme=dark] .colab-df-convert {\n",
              "      background-color: #3B4455;\n",
              "      fill: #D2E3FC;\n",
              "    }\n",
              "\n",
              "    [theme=dark] .colab-df-convert:hover {\n",
              "      background-color: #434B5C;\n",
              "      box-shadow: 0px 1px 3px 1px rgba(0, 0, 0, 0.15);\n",
              "      filter: drop-shadow(0px 1px 2px rgba(0, 0, 0, 0.3));\n",
              "      fill: #FFFFFF;\n",
              "    }\n",
              "  </style>\n",
              "\n",
              "      <script>\n",
              "        const buttonEl =\n",
              "          document.querySelector('#df-61f5825c-1d10-4402-9b5e-040c68b6d400 button.colab-df-convert');\n",
              "        buttonEl.style.display =\n",
              "          google.colab.kernel.accessAllowed ? 'block' : 'none';\n",
              "\n",
              "        async function convertToInteractive(key) {\n",
              "          const element = document.querySelector('#df-61f5825c-1d10-4402-9b5e-040c68b6d400');\n",
              "          const dataTable =\n",
              "            await google.colab.kernel.invokeFunction('convertToInteractive',\n",
              "                                                     [key], {});\n",
              "          if (!dataTable) return;\n",
              "\n",
              "          const docLinkHtml = 'Like what you see? Visit the ' +\n",
              "            '<a target=\"_blank\" href=https://colab.research.google.com/notebooks/data_table.ipynb>data table notebook</a>'\n",
              "            + ' to learn more about interactive tables.';\n",
              "          element.innerHTML = '';\n",
              "          dataTable['output_type'] = 'display_data';\n",
              "          await google.colab.output.renderOutput(dataTable, element);\n",
              "          const docLink = document.createElement('div');\n",
              "          docLink.innerHTML = docLinkHtml;\n",
              "          element.appendChild(docLink);\n",
              "        }\n",
              "      </script>\n",
              "    </div>\n",
              "  </div>\n",
              "  "
            ],
            "text/plain": [
              "      id   age    bp     sg   al   su     rbc      pc         pcc          ba  \\\n",
              "395  395  55.0  80.0  1.020  0.0  0.0  normal  normal  notpresent  notpresent   \n",
              "396  396  42.0  70.0  1.025  0.0  0.0  normal  normal  notpresent  notpresent   \n",
              "397  397  12.0  80.0  1.020  0.0  0.0  normal  normal  notpresent  notpresent   \n",
              "398  398  17.0  60.0  1.025  0.0  0.0  normal  normal  notpresent  notpresent   \n",
              "399  399  58.0  80.0  1.025  0.0  0.0  normal  normal  notpresent  notpresent   \n",
              "\n",
              "     ...  pcv    wc   rc  htn  dm  cad appet  pe ane classification  \n",
              "395  ...   47  6700  4.9   no  no   no  good  no  no         notckd  \n",
              "396  ...   54  7800  6.2   no  no   no  good  no  no         notckd  \n",
              "397  ...   49  6600  5.4   no  no   no  good  no  no         notckd  \n",
              "398  ...   51  7200  5.9   no  no   no  good  no  no         notckd  \n",
              "399  ...   53  6800  6.1   no  no   no  good  no  no         notckd  \n",
              "\n",
              "[5 rows x 26 columns]"
            ]
          },
          "execution_count": 4,
          "metadata": {},
          "output_type": "execute_result"
        }
      ],
      "source": [
        "data.tail()"
      ]
    },
    {
      "cell_type": "code",
      "execution_count": null,
      "id": "01c28593",
      "metadata": {
        "id": "01c28593"
      },
      "outputs": [],
      "source": [
        "data.drop([\"id\"],axis=1,inplace=True)  # dropping the column \"id\""
      ]
    },
    {
      "cell_type": "code",
      "execution_count": null,
      "id": "6f0c7115",
      "metadata": {
        "colab": {
          "base_uri": "https://localhost:8080/"
        },
        "id": "6f0c7115",
        "outputId": "1d5d1a4c-ed9a-4cfa-a5d8-46e13c20d23b"
      },
      "outputs": [
        {
          "data": {
            "text/plain": [
              "Index(['age', 'bp', 'sg', 'al', 'su', 'rbc', 'pc', 'pcc', 'ba', 'bgr', 'bu',\n",
              "       'sc', 'sod', 'pot', 'hemo', 'pcv', 'wc', 'rc', 'htn', 'dm', 'cad',\n",
              "       'appet', 'pe', 'ane', 'classification'],\n",
              "      dtype='object')"
            ]
          },
          "execution_count": 6,
          "metadata": {},
          "output_type": "execute_result"
        }
      ],
      "source": [
        "data.columns"
      ]
    },
    {
      "cell_type": "markdown",
      "id": "242e0f01",
      "metadata": {
        "id": "242e0f01"
      },
      "source": [
        "# Renaming the columns"
      ]
    },
    {
      "cell_type": "code",
      "execution_count": null,
      "id": "aa1ada9b",
      "metadata": {
        "colab": {
          "base_uri": "https://localhost:8080/"
        },
        "id": "aa1ada9b",
        "outputId": "04ff7626-e855-4a4d-f7cf-afed0f56d1ca"
      },
      "outputs": [
        {
          "data": {
            "text/plain": [
              "Index(['age', 'blood_pressure', 'specific_gravity', 'albumin', 'sugar',\n",
              "       'red_blood_cells', 'pus_cells', 'pus_cell_clumps', 'bacteria',\n",
              "       'blood glucose random', 'blood_urea', 'serum_creatinine', 'sodium',\n",
              "       'potassium', 'haemoglobin', 'packed_cell_volume',\n",
              "       'white_blood_cell_count', 'red_blood_cell_count', 'hypertension',\n",
              "       'diabetesmellitus', 'coronary_artery_disease', 'appetite',\n",
              "       'pedal_edema', 'anemia', 'class'],\n",
              "      dtype='object')"
            ]
          },
          "execution_count": 7,
          "metadata": {},
          "output_type": "execute_result"
        }
      ],
      "source": [
        "data.columns=['age','blood_pressure','specific_gravity','albumin','sugar','red_blood_cells','pus_cells',\n",
        "              'pus_cell_clumps','bacteria','blood glucose random','blood_urea','serum_creatinine','sodium','potassium',\n",
        "              'haemoglobin','packed_cell_volume','white_blood_cell_count','red_blood_cell_count','hypertension',\n",
        "              'diabetesmellitus','coronary_artery_disease','appetite','pedal_edema','anemia','class']\n",
        "data.columns"
      ]
    },
    {
      "cell_type": "markdown",
      "id": "53fdbe57",
      "metadata": {
        "id": "53fdbe57"
      },
      "source": [
        "# Understanding datatype"
      ]
    },
    {
      "cell_type": "code",
      "execution_count": null,
      "id": "9827ad8a",
      "metadata": {
        "colab": {
          "base_uri": "https://localhost:8080/"
        },
        "id": "9827ad8a",
        "outputId": "461a9f94-bac0-4163-9d59-ef94b777a1c4"
      },
      "outputs": [
        {
          "name": "stdout",
          "output_type": "stream",
          "text": [
            "<class 'pandas.core.frame.DataFrame'>\n",
            "RangeIndex: 400 entries, 0 to 399\n",
            "Data columns (total 25 columns):\n",
            " #   Column                   Non-Null Count  Dtype  \n",
            "---  ------                   --------------  -----  \n",
            " 0   age                      391 non-null    float64\n",
            " 1   blood_pressure           388 non-null    float64\n",
            " 2   specific_gravity         353 non-null    float64\n",
            " 3   albumin                  354 non-null    float64\n",
            " 4   sugar                    351 non-null    float64\n",
            " 5   red_blood_cells          248 non-null    object \n",
            " 6   pus_cells                335 non-null    object \n",
            " 7   pus_cell_clumps          396 non-null    object \n",
            " 8   bacteria                 396 non-null    object \n",
            " 9   blood glucose random     356 non-null    float64\n",
            " 10  blood_urea               381 non-null    float64\n",
            " 11  serum_creatinine         383 non-null    float64\n",
            " 12  sodium                   313 non-null    float64\n",
            " 13  potassium                312 non-null    float64\n",
            " 14  haemoglobin              348 non-null    float64\n",
            " 15  packed_cell_volume       330 non-null    object \n",
            " 16  white_blood_cell_count   295 non-null    object \n",
            " 17  red_blood_cell_count     270 non-null    object \n",
            " 18  hypertension             398 non-null    object \n",
            " 19  diabetesmellitus         398 non-null    object \n",
            " 20  coronary_artery_disease  398 non-null    object \n",
            " 21  appetite                 399 non-null    object \n",
            " 22  pedal_edema              399 non-null    object \n",
            " 23  anemia                   399 non-null    object \n",
            " 24  class                    400 non-null    object \n",
            "dtypes: float64(11), object(14)\n",
            "memory usage: 78.2+ KB\n"
          ]
        }
      ],
      "source": [
        "data.info()"
      ]
    },
    {
      "cell_type": "markdown",
      "id": "c7b19581",
      "metadata": {
        "id": "c7b19581"
      },
      "source": [
        "## Target column"
      ]
    },
    {
      "cell_type": "code",
      "execution_count": null,
      "id": "dbc87c5e",
      "metadata": {
        "colab": {
          "base_uri": "https://localhost:8080/"
        },
        "id": "dbc87c5e",
        "outputId": "2bec028b-a0cd-46d9-f90f-31750aa87681"
      },
      "outputs": [
        {
          "data": {
            "text/plain": [
              "array(['ckd', 'ckd\\t', 'notckd'], dtype=object)"
            ]
          },
          "execution_count": 9,
          "metadata": {},
          "output_type": "execute_result"
        }
      ],
      "source": [
        "data['class'].unique()"
      ]
    },
    {
      "cell_type": "markdown",
      "id": "5e3dd3e3",
      "metadata": {
        "id": "5e3dd3e3"
      },
      "source": [
        "## Rectifying target coulmn"
      ]
    },
    {
      "cell_type": "code",
      "execution_count": null,
      "id": "d5f49e27",
      "metadata": {
        "colab": {
          "base_uri": "https://localhost:8080/"
        },
        "id": "d5f49e27",
        "outputId": "9be4ddd4-096e-4a1f-b1dc-7dcb61d6e0bd"
      },
      "outputs": [
        {
          "data": {
            "text/plain": [
              "array(['ckd', 'notckd'], dtype=object)"
            ]
          },
          "execution_count": 10,
          "metadata": {},
          "output_type": "execute_result"
        }
      ],
      "source": [
        "data['class']=data['class'].replace(\"ckd\\t\",\"ckd\")\n",
        "data['class'].unique()"
      ]
    },
    {
      "cell_type": "code",
      "execution_count": null,
      "id": "5a36deea",
      "metadata": {
        "colab": {
          "base_uri": "https://localhost:8080/"
        },
        "id": "5a36deea",
        "outputId": "0b865460-9d5e-45bc-e54a-272d6227b5ef"
      },
      "outputs": [
        {
          "name": "stdout",
          "output_type": "stream",
          "text": [
            "{'white_blood_cell_count', 'red_blood_cell_count', 'pedal_edema', 'packed_cell_volume', 'pus_cell_clumps', 'pus_cells', 'diabetesmellitus', 'appetite', 'anemia', 'coronary_artery_disease', 'bacteria', 'red_blood_cells', 'class', 'hypertension'}\n"
          ]
        }
      ],
      "source": [
        "categorical_columns=set(data.dtypes[data.dtypes=='O'].index.values)  #fetching object or categorical columns\n",
        "print(categorical_columns)"
      ]
    },
    {
      "cell_type": "code",
      "execution_count": null,
      "id": "22817b01",
      "metadata": {
        "colab": {
          "base_uri": "https://localhost:8080/",
          "height": 235
        },
        "id": "22817b01",
        "outputId": "edd0a1d7-3495-46ce-ce58-440a6613121d"
      },
      "outputs": [
        {
          "name": "stdout",
          "output_type": "stream",
          "text": [
            "Columns :  white_blood_cell_count\n"
          ]
        },
        {
          "ename": "TypeError",
          "evalue": "ignored",
          "output_type": "error",
          "traceback": [
            "\u001b[0;31m---------------------------------------------------------------------------\u001b[0m",
            "\u001b[0;31mTypeError\u001b[0m                                 Traceback (most recent call last)",
            "\u001b[0;32m<ipython-input-12-ea73d326a299>\u001b[0m in \u001b[0;36m<module>\u001b[0;34m\u001b[0m\n\u001b[1;32m      1\u001b[0m \u001b[0;32mfor\u001b[0m \u001b[0mi\u001b[0m \u001b[0;32min\u001b[0m \u001b[0mcategorical_columns\u001b[0m\u001b[0;34m:\u001b[0m\u001b[0;34m\u001b[0m\u001b[0;34m\u001b[0m\u001b[0m\n\u001b[1;32m      2\u001b[0m     \u001b[0mprint\u001b[0m\u001b[0;34m(\u001b[0m\u001b[0;34m\"Columns : \"\u001b[0m\u001b[0;34m,\u001b[0m\u001b[0mi\u001b[0m\u001b[0;34m)\u001b[0m\u001b[0;34m\u001b[0m\u001b[0;34m\u001b[0m\u001b[0m\n\u001b[0;32m----> 3\u001b[0;31m     \u001b[0mprint\u001b[0m\u001b[0;34m(\u001b[0m\u001b[0mc\u001b[0m\u001b[0;34m[\u001b[0m\u001b[0mdata\u001b[0m\u001b[0;34m[\u001b[0m\u001b[0mi\u001b[0m\u001b[0;34m]\u001b[0m\u001b[0;34m]\u001b[0m\u001b[0;34m)\u001b[0m\u001b[0;34m\u001b[0m\u001b[0;34m\u001b[0m\u001b[0m\n\u001b[0m\u001b[1;32m      4\u001b[0m     \u001b[0mprint\u001b[0m\u001b[0;34m(\u001b[0m\u001b[0;34m\"*\"\u001b[0m\u001b[0;34m*\u001b[0m\u001b[0;36m120\u001b[0m\u001b[0;34m+\u001b[0m\u001b[0;34m'\\n'\u001b[0m\u001b[0;34m)\u001b[0m\u001b[0;34m\u001b[0m\u001b[0;34m\u001b[0m\u001b[0m\n",
            "\u001b[0;31mTypeError\u001b[0m: 'type' object is not subscriptable"
          ]
        }
      ],
      "source": [
        "for i in categorical_columns:\n",
        "    print(\"Columns : \",i)\n",
        "    print(c[data[i]])\n",
        "    print(\"*\"*120+'\\n')"
      ]
    },
    {
      "cell_type": "markdown",
      "id": "71001ecc",
      "metadata": {
        "id": "71001ecc"
      },
      "source": [
        "## Removing columns which are not categorical"
      ]
    },
    {
      "cell_type": "code",
      "execution_count": null,
      "id": "7229ea0b",
      "metadata": {
        "colab": {
          "base_uri": "https://localhost:8080/"
        },
        "id": "7229ea0b",
        "outputId": "bab0f21f-0411-4be6-bcd7-9c751c3be089"
      },
      "outputs": [
        {
          "name": "stdout",
          "output_type": "stream",
          "text": [
            "{'pedal_edema', 'pus_cell_clumps', 'pus_cells', 'diabetesmellitus', 'appetite', 'anemia', 'coronary_artery_disease', 'bacteria', 'red_blood_cells', 'class', 'hypertension'}\n"
          ]
        }
      ],
      "source": [
        "categorical_columns.remove('red_blood_cell_count')\n",
        "categorical_columns.remove('packed_cell_volume')\n",
        "categorical_columns.remove('white_blood_cell_count')\n",
        "print(categorical_columns)"
      ]
    },
    {
      "cell_type": "markdown",
      "id": "5c20d0a9",
      "metadata": {
        "id": "5c20d0a9"
      },
      "source": [
        "## Numerical columns"
      ]
    },
    {
      "cell_type": "code",
      "execution_count": null,
      "id": "1892d545",
      "metadata": {
        "colab": {
          "base_uri": "https://localhost:8080/"
        },
        "id": "1892d545",
        "outputId": "e61ce501-894e-4874-bcdf-888e8141e142"
      },
      "outputs": [
        {
          "name": "stdout",
          "output_type": "stream",
          "text": [
            "{'specific_gravity', 'age', 'haemoglobin', 'blood_urea', 'serum_creatinine', 'sodium', 'blood glucose random', 'sugar', 'potassium', 'blood_pressure', 'albumin'}\n"
          ]
        }
      ],
      "source": [
        "continuous_columns=set(data.dtypes[data.dtypes!='O'].index.values)    #fetching numerical columns\n",
        "print(continuous_columns)"
      ]
    },
    {
      "cell_type": "code",
      "execution_count": null,
      "id": "8e5a61a8",
      "metadata": {
        "colab": {
          "base_uri": "https://localhost:8080/",
          "height": 235
        },
        "id": "8e5a61a8",
        "outputId": "49600d37-194b-4b5a-8a61-0820fe11a74c"
      },
      "outputs": [
        {
          "name": "stdout",
          "output_type": "stream",
          "text": [
            "Columns :  specific_gravity\n"
          ]
        },
        {
          "ename": "TypeError",
          "evalue": "ignored",
          "output_type": "error",
          "traceback": [
            "\u001b[0;31m---------------------------------------------------------------------------\u001b[0m",
            "\u001b[0;31mTypeError\u001b[0m                                 Traceback (most recent call last)",
            "\u001b[0;32m<ipython-input-15-70164eac9a73>\u001b[0m in \u001b[0;36m<module>\u001b[0;34m\u001b[0m\n\u001b[1;32m      1\u001b[0m \u001b[0;32mfor\u001b[0m \u001b[0mi\u001b[0m \u001b[0;32min\u001b[0m \u001b[0mcontinuous_columns\u001b[0m\u001b[0;34m:\u001b[0m\u001b[0;34m\u001b[0m\u001b[0;34m\u001b[0m\u001b[0m\n\u001b[1;32m      2\u001b[0m     \u001b[0mprint\u001b[0m\u001b[0;34m(\u001b[0m\u001b[0;34m\"Columns : \"\u001b[0m\u001b[0;34m,\u001b[0m\u001b[0mi\u001b[0m\u001b[0;34m)\u001b[0m\u001b[0;34m\u001b[0m\u001b[0;34m\u001b[0m\u001b[0m\n\u001b[0;32m----> 3\u001b[0;31m     \u001b[0mprint\u001b[0m\u001b[0;34m(\u001b[0m\u001b[0mc\u001b[0m\u001b[0;34m[\u001b[0m\u001b[0mdata\u001b[0m\u001b[0;34m[\u001b[0m\u001b[0mi\u001b[0m\u001b[0;34m]\u001b[0m\u001b[0;34m]\u001b[0m\u001b[0;34m)\u001b[0m\u001b[0;34m\u001b[0m\u001b[0;34m\u001b[0m\u001b[0m\n\u001b[0m\u001b[1;32m      4\u001b[0m     \u001b[0mprint\u001b[0m\u001b[0;34m(\u001b[0m\u001b[0;34m\"*\"\u001b[0m\u001b[0;34m*\u001b[0m\u001b[0;36m120\u001b[0m\u001b[0;34m+\u001b[0m\u001b[0;34m'\\n'\u001b[0m\u001b[0;34m)\u001b[0m\u001b[0;34m\u001b[0m\u001b[0;34m\u001b[0m\u001b[0m\n",
            "\u001b[0;31mTypeError\u001b[0m: 'type' object is not subscriptable"
          ]
        }
      ],
      "source": [
        "for i in continuous_columns:\n",
        "    print(\"Columns : \",i)\n",
        "    print(c[data[i]])\n",
        "    print(\"*\"*120+'\\n')"
      ]
    },
    {
      "cell_type": "markdown",
      "id": "2fb8a46b",
      "metadata": {
        "id": "2fb8a46b"
      },
      "source": [
        "## Removing columns which are not numerical"
      ]
    },
    {
      "cell_type": "code",
      "execution_count": null,
      "id": "0ea994d6",
      "metadata": {
        "colab": {
          "base_uri": "https://localhost:8080/"
        },
        "id": "0ea994d6",
        "outputId": "96641447-8ccf-47f9-c44f-33aac024a660"
      },
      "outputs": [
        {
          "name": "stdout",
          "output_type": "stream",
          "text": [
            "{'age', 'haemoglobin', 'blood_urea', 'serum_creatinine', 'sodium', 'blood glucose random', 'potassium', 'blood_pressure'}\n"
          ]
        }
      ],
      "source": [
        "continuous_columns.remove('specific_gravity')\n",
        "continuous_columns.remove('albumin')\n",
        "continuous_columns.remove('sugar')\n",
        "print(continuous_columns)\n"
      ]
    },
    {
      "cell_type": "markdown",
      "id": "6302c330",
      "metadata": {
        "id": "6302c330"
      },
      "source": [
        "## Adding columns which we found continuous"
      ]
    },
    {
      "cell_type": "code",
      "execution_count": null,
      "id": "60615b35",
      "metadata": {
        "colab": {
          "base_uri": "https://localhost:8080/"
        },
        "id": "60615b35",
        "outputId": "f3c1cafc-0d2e-448a-ed6e-50ce3888f3ea"
      },
      "outputs": [
        {
          "name": "stdout",
          "output_type": "stream",
          "text": [
            "{'white_blood_cell_count', 'red_blood_cell_count', 'age', 'packed_cell_volume', 'haemoglobin', 'blood_urea', 'serum_creatinine', 'sodium', 'blood glucose random', 'potassium', 'blood_pressure'}\n"
          ]
        }
      ],
      "source": [
        "continuous_columns.add('red_blood_cell_count')\n",
        "continuous_columns.add('packed_cell_volume')\n",
        "continuous_columns.add('white_blood_cell_count')\n",
        "print(continuous_columns)\n"
      ]
    },
    {
      "cell_type": "markdown",
      "id": "e371e0a7",
      "metadata": {
        "id": "e371e0a7"
      },
      "source": [
        "## Adding columns which we found categorical"
      ]
    },
    {
      "cell_type": "code",
      "execution_count": null,
      "id": "d321da55",
      "metadata": {
        "colab": {
          "base_uri": "https://localhost:8080/"
        },
        "id": "d321da55",
        "outputId": "338edc9a-ffcb-4460-c42c-eddbecae54d8"
      },
      "outputs": [
        {
          "name": "stdout",
          "output_type": "stream",
          "text": [
            "{'specific_gravity', 'pedal_edema', 'pus_cell_clumps', 'pus_cells', 'diabetesmellitus', 'appetite', 'anemia', 'coronary_artery_disease', 'bacteria', 'red_blood_cells', 'class', 'sugar', 'hypertension', 'albumin'}\n"
          ]
        }
      ],
      "source": [
        "categorical_columns.add('specific_gravity')\n",
        "categorical_columns.add('albumin')\n",
        "categorical_columns.add('sugar')\n",
        "print(categorical_columns)"
      ]
    },
    {
      "cell_type": "markdown",
      "id": "30cf3617",
      "metadata": {
        "id": "30cf3617"
      },
      "source": [
        "## Rectifying the categorical column classes"
      ]
    },
    {
      "cell_type": "code",
      "execution_count": null,
      "id": "f97f958f",
      "metadata": {
        "colab": {
          "base_uri": "https://localhost:8080/"
        },
        "id": "f97f958f",
        "outputId": "e48c30fa-93ad-4870-ccf2-4f5e707073ee"
      },
      "outputs": [
        {
          "data": {
            "text/plain": [
              "Counter({'no': 364, 'yes': 34, nan: 2})"
            ]
          },
          "execution_count": 19,
          "metadata": {},
          "output_type": "execute_result"
        }
      ],
      "source": [
        "data['coronary_artery_disease']=data.coronary_artery_disease.replace('\\tno','no')\n",
        "c(data['coronary_artery_disease'])"
      ]
    },
    {
      "cell_type": "code",
      "execution_count": null,
      "id": "24542d31",
      "metadata": {
        "colab": {
          "base_uri": "https://localhost:8080/"
        },
        "id": "24542d31",
        "outputId": "97a6c3d5-b97e-4f75-e2e5-96e63a498e63"
      },
      "outputs": [
        {
          "data": {
            "text/plain": [
              "Counter({'yes': 137, 'no': 261, nan: 2})"
            ]
          },
          "execution_count": 20,
          "metadata": {},
          "output_type": "execute_result"
        }
      ],
      "source": [
        "data['diabetesmellitus']=data.diabetesmellitus.replace(to_replace={'\\tyes':'yes','\\tno':'no',' yes':'yes'})\n",
        "c(data['diabetesmellitus'])"
      ]
    },
    {
      "cell_type": "markdown",
      "id": "29886455",
      "metadata": {
        "id": "29886455"
      },
      "source": [
        "## Null values"
      ]
    },
    {
      "cell_type": "code",
      "execution_count": null,
      "id": "f72349b5",
      "metadata": {
        "colab": {
          "base_uri": "https://localhost:8080/"
        },
        "id": "f72349b5",
        "outputId": "1025bca8-3201-4929-ef4e-a6340cac01b2"
      },
      "outputs": [
        {
          "data": {
            "text/plain": [
              "age                         True\n",
              "blood_pressure              True\n",
              "specific_gravity            True\n",
              "albumin                     True\n",
              "sugar                       True\n",
              "red_blood_cells             True\n",
              "pus_cells                   True\n",
              "pus_cell_clumps             True\n",
              "bacteria                    True\n",
              "blood glucose random        True\n",
              "blood_urea                  True\n",
              "serum_creatinine            True\n",
              "sodium                      True\n",
              "potassium                   True\n",
              "haemoglobin                 True\n",
              "packed_cell_volume          True\n",
              "white_blood_cell_count      True\n",
              "red_blood_cell_count        True\n",
              "hypertension                True\n",
              "diabetesmellitus            True\n",
              "coronary_artery_disease     True\n",
              "appetite                    True\n",
              "pedal_edema                 True\n",
              "anemia                      True\n",
              "class                      False\n",
              "dtype: bool"
            ]
          },
          "execution_count": 21,
          "metadata": {},
          "output_type": "execute_result"
        }
      ],
      "source": [
        "data.isnull().any()          #returns true if column has any missing values"
      ]
    },
    {
      "cell_type": "code",
      "execution_count": null,
      "id": "28b861d4",
      "metadata": {
        "colab": {
          "base_uri": "https://localhost:8080/"
        },
        "id": "28b861d4",
        "outputId": "c06846d2-2ba0-478f-f130-c53edbc09225"
      },
      "outputs": [
        {
          "data": {
            "text/plain": [
              "age                          9\n",
              "blood_pressure              12\n",
              "specific_gravity            47\n",
              "albumin                     46\n",
              "sugar                       49\n",
              "red_blood_cells            152\n",
              "pus_cells                   65\n",
              "pus_cell_clumps              4\n",
              "bacteria                     4\n",
              "blood glucose random        44\n",
              "blood_urea                  19\n",
              "serum_creatinine            17\n",
              "sodium                      87\n",
              "potassium                   88\n",
              "haemoglobin                 52\n",
              "packed_cell_volume          70\n",
              "white_blood_cell_count     105\n",
              "red_blood_cell_count       130\n",
              "hypertension                 2\n",
              "diabetesmellitus             2\n",
              "coronary_artery_disease      2\n",
              "appetite                     1\n",
              "pedal_edema                  1\n",
              "anemia                       1\n",
              "class                        0\n",
              "dtype: int64"
            ]
          },
          "execution_count": 22,
          "metadata": {},
          "output_type": "execute_result"
        }
      ],
      "source": [
        "data.isnull().sum()  #returns the count of missing values"
      ]
    },
    {
      "cell_type": "code",
      "execution_count": null,
      "id": "5ce69b48",
      "metadata": {
        "id": "5ce69b48"
      },
      "outputs": [],
      "source": [
        "data.packed_cell_volume=pd.to_numeric(data.packed_cell_volume,errors='coerce')\n",
        "data.white_blood_cell_count=pd.to_numeric(data.white_blood_cell_count,errors='coerce')\n",
        "data.red_blood_cell_count=pd.to_numeric(data.red_blood_cell_count,errors='coerce')\n"
      ]
    },
    {
      "cell_type": "markdown",
      "id": "08979628",
      "metadata": {
        "id": "08979628"
      },
      "source": [
        "##  Handling continuous/numeric columns null values"
      ]
    },
    {
      "cell_type": "code",
      "execution_count": null,
      "id": "2b39c36d",
      "metadata": {
        "id": "2b39c36d"
      },
      "outputs": [],
      "source": [
        "data['blood glucose random'].fillna(data['blood glucose random'].mean(),inplace=True)\n",
        "data['blood_pressure'].fillna(data['blood_pressure'].mean(),inplace=True)\n",
        "data['blood_urea'].fillna(data['blood_urea'].mean(),inplace=True)\n",
        "data['haemoglobin'].fillna(data['haemoglobin'].mean(),inplace=True)\n",
        "data['packed_cell_volume'].fillna(data['packed_cell_volume'].mean(),inplace=True)\n",
        "data['potassium'].fillna(data['potassium'].mean(),inplace=True)\n",
        "data['red_blood_cell_count'].fillna(data['red_blood_cell_count'].mean(),inplace=True)\n",
        "data['serum_creatinine'].fillna(data['serum_creatinine'].mean(),inplace=True)\n",
        "data['sodium'].fillna(data['sodium'].mean(),inplace=True)\n",
        "data['white_blood_cell_count'].fillna(data['white_blood_cell_count'].mean(),inplace=True)\n"
      ]
    },
    {
      "cell_type": "code",
      "execution_count": null,
      "id": "15f42153",
      "metadata": {
        "id": "15f42153"
      },
      "outputs": [],
      "source": [
        "data['age'].fillna(data['age'].mode()[0],inplace=True)\n",
        "data['hypertension'].fillna(data['hypertension'].mode()[0],inplace=True)\n",
        "data['pus_cell_clumps'].fillna(data['pus_cell_clumps'].mode()[0],inplace=True)\n",
        "data['appetite'].fillna(data['appetite'].mode()[0],inplace=True)\n",
        "data['albumin'].fillna(data['albumin'].mode()[0],inplace=True)\n",
        "data['pus_cells'].fillna(data['pus_cells'].mode()[0],inplace=True)\n",
        "data['red_blood_cells'].fillna(data['red_blood_cells'].mode()[0],inplace=True)\n",
        "data['coronary_artery_disease'].fillna(data['coronary_artery_disease'].mode()[0],inplace=True)\n",
        "data['bacteria'].fillna(data['bacteria'].mode()[0],inplace=True)\n",
        "data['anemia'].fillna(data['anemia'].mode()[0],inplace=True)\n",
        "data['sugar'].fillna(data['sugar'].mode()[0],inplace=True)\n",
        "data['diabetesmellitus'].fillna(data['diabetesmellitus'].mode()[0],inplace=True)\n",
        "data['pedal_edema'].fillna(data['pedal_edema'].mode()[0],inplace=True)\n",
        "data['specific_gravity'].fillna(data['specific_gravity'].mode()[0],inplace=True)"
      ]
    },
    {
      "cell_type": "markdown",
      "id": "f6965ac7",
      "metadata": {
        "id": "f6965ac7"
      },
      "source": [
        "## Label encoding"
      ]
    },
    {
      "cell_type": "code",
      "execution_count": null,
      "id": "1eb78dda",
      "metadata": {
        "colab": {
          "base_uri": "https://localhost:8080/"
        },
        "id": "1eb78dda",
        "outputId": "e3dc0362-f066-43a2-a1d3-489d64b805df"
      },
      "outputs": [
        {
          "name": "stdout",
          "output_type": "stream",
          "text": [
            "LABEL ENCODING OF: specific_gravity\n",
            "Counter({1.02: 153, 1.01: 84, 1.025: 81, 1.015: 75, 1.005: 7})\n",
            "Counter({3: 153, 1: 84, 4: 81, 2: 75, 0: 7})\n",
            "****************************************************************************************************\n",
            "LABEL ENCODING OF: pedal_edema\n",
            "Counter({'no': 324, 'yes': 76})\n",
            "Counter({0: 324, 1: 76})\n",
            "****************************************************************************************************\n",
            "LABEL ENCODING OF: pus_cell_clumps\n",
            "Counter({'notpresent': 358, 'present': 42})\n",
            "Counter({0: 358, 1: 42})\n",
            "****************************************************************************************************\n",
            "LABEL ENCODING OF: pus_cells\n",
            "Counter({'normal': 324, 'abnormal': 76})\n",
            "Counter({1: 324, 0: 76})\n",
            "****************************************************************************************************\n",
            "LABEL ENCODING OF: diabetesmellitus\n",
            "Counter({'no': 263, 'yes': 137})\n",
            "Counter({0: 263, 1: 137})\n",
            "****************************************************************************************************\n",
            "LABEL ENCODING OF: appetite\n",
            "Counter({'good': 318, 'poor': 82})\n",
            "Counter({0: 318, 1: 82})\n",
            "****************************************************************************************************\n",
            "LABEL ENCODING OF: anemia\n",
            "Counter({'no': 340, 'yes': 60})\n",
            "Counter({0: 340, 1: 60})\n",
            "****************************************************************************************************\n",
            "LABEL ENCODING OF: coronary_artery_disease\n",
            "Counter({'no': 366, 'yes': 34})\n",
            "Counter({0: 366, 1: 34})\n",
            "****************************************************************************************************\n",
            "LABEL ENCODING OF: bacteria\n",
            "Counter({'notpresent': 378, 'present': 22})\n",
            "Counter({0: 378, 1: 22})\n",
            "****************************************************************************************************\n",
            "LABEL ENCODING OF: red_blood_cells\n",
            "Counter({'normal': 353, 'abnormal': 47})\n",
            "Counter({1: 353, 0: 47})\n",
            "****************************************************************************************************\n",
            "LABEL ENCODING OF: class\n",
            "Counter({'ckd': 250, 'notckd': 150})\n",
            "Counter({0: 250, 1: 150})\n",
            "****************************************************************************************************\n",
            "LABEL ENCODING OF: sugar\n",
            "Counter({0.0: 339, 2.0: 18, 3.0: 14, 4.0: 13, 1.0: 13, 5.0: 3})\n",
            "Counter({0: 339, 2: 18, 3: 14, 4: 13, 1: 13, 5: 3})\n",
            "****************************************************************************************************\n",
            "LABEL ENCODING OF: hypertension\n",
            "Counter({'no': 253, 'yes': 147})\n",
            "Counter({0: 253, 1: 147})\n",
            "****************************************************************************************************\n",
            "LABEL ENCODING OF: albumin\n",
            "Counter({0.0: 245, 1.0: 44, 2.0: 43, 3.0: 43, 4.0: 24, 5.0: 1})\n",
            "Counter({0: 245, 1: 44, 2: 43, 3: 43, 4: 24, 5: 1})\n",
            "****************************************************************************************************\n"
          ]
        }
      ],
      "source": [
        "from sklearn.preprocessing import LabelEncoder\n",
        "for i in categorical_columns:\n",
        "    print(\"LABEL ENCODING OF:\",i)\n",
        "    Le=LabelEncoder()\n",
        "    print(c(data[i]))\n",
        "    data[i]=Le.fit_transform(data[i])\n",
        "    print(c(data[i]))\n",
        "    print(\"*\"*100)"
      ]
    },
    {
      "cell_type": "markdown",
      "id": "07463674",
      "metadata": {
        "id": "07463674"
      },
      "source": [
        "## Creating dependent and independent variables"
      ]
    },
    {
      "cell_type": "code",
      "execution_count": null,
      "id": "8eb9660f",
      "metadata": {
        "colab": {
          "base_uri": "https://localhost:8080/"
        },
        "id": "8eb9660f",
        "outputId": "815fe7bc-2e62-4ffe-8822-ade16d366e5a"
      },
      "outputs": [
        {
          "name": "stdout",
          "output_type": "stream",
          "text": [
            "(400, 8)\n",
            "(400, 1)\n"
          ]
        }
      ],
      "source": [
        "selected_columns=['red_blood_cells','pus_cells','blood glucose random','blood_urea','pedal_edema','anemia',\n",
        "                  'diabetesmellitus','coronary_artery_disease']\n",
        "x=pd.DataFrame(data,columns=selected_columns)\n",
        "y=pd.DataFrame(data,columns=['class'])\n",
        "print(x.shape)\n",
        "print(y.shape)"
      ]
    },
    {
      "cell_type": "markdown",
      "id": "fe37641b",
      "metadata": {
        "id": "fe37641b"
      },
      "source": [
        "## Splitting the data into train and test"
      ]
    },
    {
      "cell_type": "code",
      "execution_count": null,
      "id": "9630f95e",
      "metadata": {
        "colab": {
          "base_uri": "https://localhost:8080/"
        },
        "id": "9630f95e",
        "outputId": "a3c1472c-07ff-4582-d982-226cfdc2b30d"
      },
      "outputs": [
        {
          "name": "stdout",
          "output_type": "stream",
          "text": [
            "(320, 8)\n",
            "(320, 1)\n",
            "(80, 8)\n",
            "(80, 1)\n"
          ]
        }
      ],
      "source": [
        "from sklearn.model_selection import train_test_split\n",
        "x_train,x_test,y_train,y_test=train_test_split(x,y,test_size=0.2,random_state=2)\n",
        "print(x_train.shape)\n",
        "print(y_train.shape)\n",
        "print(x_test.shape)\n",
        "print(y_test.shape)"
      ]
    },
    {
      "cell_type": "markdown",
      "id": "622a0788",
      "metadata": {
        "id": "622a0788"
      },
      "source": [
        "## Build a machine learning model"
      ]
    },
    {
      "cell_type": "code",
      "execution_count": null,
      "id": "58dc7f78",
      "metadata": {
        "colab": {
          "base_uri": "https://localhost:8080/"
        },
        "id": "58dc7f78",
        "outputId": "b9dda623-9721-4c37-80dc-fa7ca2ca2ca2"
      },
      "outputs": [
        {
          "name": "stderr",
          "output_type": "stream",
          "text": [
            "/usr/local/lib/python3.7/dist-packages/sklearn/utils/validation.py:993: DataConversionWarning: A column-vector y was passed when a 1d array was expected. Please change the shape of y to (n_samples, ), for example using ravel().\n",
            "  y = column_or_1d(y, warn=True)\n",
            "/usr/local/lib/python3.7/dist-packages/sklearn/linear_model/_logistic.py:818: ConvergenceWarning: lbfgs failed to converge (status=1):\n",
            "STOP: TOTAL NO. of ITERATIONS REACHED LIMIT.\n",
            "\n",
            "Increase the number of iterations (max_iter) or scale the data as shown in:\n",
            "    https://scikit-learn.org/stable/modules/preprocessing.html\n",
            "Please also refer to the documentation for alternative solver options:\n",
            "    https://scikit-learn.org/stable/modules/linear_model.html#logistic-regression\n",
            "  extra_warning_msg=_LOGISTIC_SOLVER_CONVERGENCE_MSG,\n"
          ]
        },
        {
          "data": {
            "text/plain": [
              "LogisticRegression()"
            ]
          },
          "execution_count": 29,
          "metadata": {},
          "output_type": "execute_result"
        }
      ],
      "source": [
        "from sklearn.linear_model import LogisticRegression \n",
        "lgr=LogisticRegression() \n",
        "lgr.fit(x_train,y_train) "
      ]
    },
    {
      "cell_type": "code",
      "execution_count": null,
      "id": "59c9b0ba",
      "metadata": {
        "colab": {
          "base_uri": "https://localhost:8080/"
        },
        "id": "59c9b0ba",
        "outputId": "24ac38ae-49bd-498e-a20c-b5c22f83cdaa"
      },
      "outputs": [
        {
          "name": "stdout",
          "output_type": "stream",
          "text": [
            "[0 0 0 0 1 0 0 0 1 0 0 0 1 1 0 0 0 1 1 0 1 1 0 1 0 1 0 0 1 0 0 1 0 0 0 0 1\n",
            " 0 0 1 0 1 0 0 0 1 0 1 1 1 0 0 0 1 0 1 0 1 1 0 0 1 1 0 0 0 0 1 0 1 1 0 0 1\n",
            " 0 1 0 1 1 0]\n"
          ]
        },
        {
          "name": "stderr",
          "output_type": "stream",
          "text": [
            "/usr/local/lib/python3.7/dist-packages/sklearn/base.py:451: UserWarning: X does not have valid feature names, but LogisticRegression was fitted with feature names\n",
            "  \"X does not have valid feature names, but\"\n"
          ]
        },
        {
          "data": {
            "text/plain": [
              "Counter({0: 48, 1: 32})"
            ]
          },
          "execution_count": 30,
          "metadata": {},
          "output_type": "execute_result"
        }
      ],
      "source": [
        "y_pred=lgr.predict(x_test)\n",
        "y_pred1=lgr.predict([[129,99,1,0,0,1,0,1]])\n",
        "print(y_pred)\n",
        "c(y_pred)"
      ]
    },
    {
      "cell_type": "code",
      "execution_count": null,
      "id": "68aa0483",
      "metadata": {
        "colab": {
          "base_uri": "https://localhost:8080/"
        },
        "id": "68aa0483",
        "outputId": "d8f68ac4-2dd6-4fc0-81a7-e8a7b3655783"
      },
      "outputs": [
        {
          "data": {
            "text/plain": [
              "0.925"
            ]
          },
          "execution_count": 31,
          "metadata": {},
          "output_type": "execute_result"
        }
      ],
      "source": [
        "accuracy_score(y_test,y_pred)"
      ]
    },
    {
      "cell_type": "markdown",
      "id": "eee3b878",
      "metadata": {
        "id": "eee3b878"
      },
      "source": [
        "## Confusion matrix"
      ]
    },
    {
      "cell_type": "code",
      "execution_count": null,
      "id": "21ff25b7",
      "metadata": {
        "colab": {
          "base_uri": "https://localhost:8080/"
        },
        "id": "21ff25b7",
        "outputId": "c34b1953-4e71-4e7d-fb5c-1ddf1ae7cc3f"
      },
      "outputs": [
        {
          "data": {
            "text/plain": [
              "array([[48,  6],\n",
              "       [ 0, 26]])"
            ]
          },
          "execution_count": 32,
          "metadata": {},
          "output_type": "execute_result"
        }
      ],
      "source": [
        "confusion_mat = confusion_matrix(y_test,y_pred)\n",
        "confusion_mat"
      ]
    },
    {
      "cell_type": "markdown",
      "id": "ef8a94e2",
      "metadata": {
        "id": "ef8a94e2"
      },
      "source": [
        "## Dumping our model into pickle form"
      ]
    },
    {
      "cell_type": "code",
      "execution_count": null,
      "id": "afa699c1",
      "metadata": {
        "id": "afa699c1"
      },
      "outputs": [],
      "source": [
        "pickle.dump(lgr,open('CKD.pkl','wb'))"
      ]
    },
    {
      "cell_type": "code",
      "execution_count": null,
      "id": "RPnV84Nx1GFU",
      "metadata": {
        "id": "RPnV84Nx1GFU"
      },
      "outputs": [],
      "source": [
        "with open('/content/CKD.pkl','rb') as f:\n",
        "  mp=pickle.load(f)"
      ]
    },
    {
      "cell_type": "code",
      "execution_count": null,
      "id": "Om65uflb1dcp",
      "metadata": {
        "colab": {
          "base_uri": "https://localhost:8080/"
        },
        "id": "Om65uflb1dcp",
        "outputId": "cd6eae5f-8e57-4626-c3b9-af665ed22b1e"
      },
      "outputs": [
        {
          "name": "stderr",
          "output_type": "stream",
          "text": [
            "/usr/local/lib/python3.7/dist-packages/sklearn/base.py:451: UserWarning: X does not have valid feature names, but LogisticRegression was fitted with feature names\n",
            "  \"X does not have valid feature names, but\"\n"
          ]
        },
        {
          "data": {
            "text/plain": [
              "array([1])"
            ]
          },
          "execution_count": 39,
          "metadata": {},
          "output_type": "execute_result"
        }
      ],
      "source": [
        "mp.predict([[129,99,1,1,1,1,0,1]])"
      ]
    }
  ],
  "metadata": {
    "colab": {
      "provenance": []
    },
    "kernelspec": {
      "display_name": "Python 3.11.0 64-bit",
      "language": "python",
      "name": "python3"
    },
    "language_info": {
      "codemirror_mode": {
        "name": "ipython",
        "version": 3
      },
      "file_extension": ".py",
      "mimetype": "text/x-python",
      "name": "python",
      "nbconvert_exporter": "python",
      "pygments_lexer": "ipython3",
      "version": "3.11.0"
    },
    "vscode": {
      "interpreter": {
        "hash": "5238573367df39f7286bb46f9ff5f08f63a01a80960060ce41e3c79b190280fa"
      }
    }
  },
  "nbformat": 4,
  "nbformat_minor": 5
}
